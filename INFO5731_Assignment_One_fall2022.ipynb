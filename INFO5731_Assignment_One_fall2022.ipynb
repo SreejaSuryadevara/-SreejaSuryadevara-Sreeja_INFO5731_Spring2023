{
  "cells": [
    {
      "cell_type": "markdown",
      "metadata": {
        "id": "view-in-github",
        "colab_type": "text"
      },
      "source": [
        "<a href=\"https://colab.research.google.com/github/SreejaSuryadevara/-SreejaSuryadevara-Sreeja_INFO5731_Spring2023/blob/main/INFO5731_Assignment_One_fall2022.ipynb\" target=\"_parent\"><img src=\"https://colab.research.google.com/assets/colab-badge.svg\" alt=\"Open In Colab\"/></a>"
      ]
    },
    {
      "cell_type": "markdown",
      "metadata": {
        "id": "Ryk8D1Q4Wsrp"
      },
      "source": [
        "# **INFO5731 Assignment One**"
      ]
    },
    {
      "cell_type": "markdown",
      "metadata": {
        "id": "90_NR8c5XGWc"
      },
      "source": [
        "# Question 1\n",
        "\n",
        "(20 points). Write a Python program to generate 12 random numbers between 1 and 100. Sort the list of numbers in ascending order and print it out. Sort the list of numbers in descending order and print it out. Calculate the average for the group and print it out."
      ]
    },
    {
      "cell_type": "code",
      "execution_count": null,
      "metadata": {
        "id": "5QX6bJjGWXY9",
        "outputId": "2d9b6797-93f7-4fb1-e18b-927e1907c5ba"
      },
      "outputs": [
        {
          "name": "stdout",
          "output_type": "stream",
          "text": [
            "Random Numbers in ascending order: [7, 7, 23, 37, 38, 43, 44, 63, 63, 80, 81, 92]\n",
            "Random Numbers in descending order: [92, 81, 80, 63, 63, 44, 43, 38, 37, 23, 7, 7]\n",
            "Average of the grp: 48.166666666666664\n"
          ]
        }
      ],
      "source": [
        "# Your code here\n",
        "\n",
        "import random\n",
        "num = []\n",
        "for i in range(12):\n",
        "    num.append(random.randint(1, 100))\n",
        "asc = sorted(num)\n",
        "desc = sorted(num, reverse=True)\n",
        "\n",
        "print(\"Random Numbers in ascending order:\", asc)\n",
        "print(\"Random Numbers in descending order:\", desc)\n",
        "avg = sum(num) / len(num)\n",
        "\n",
        "print(\"Average of the grp:\", avg)\n"
      ]
    },
    {
      "cell_type": "markdown",
      "metadata": {
        "id": "1F_PZdH9Sh49"
      },
      "source": [
        "# Question 2\n",
        "(25 points). Write a program that will do the following string formatting tasks:\n",
        "\n",
        "(1) Ask the user to enter two sentences.\n",
        "\n",
        "(2) Make each sentence into a list. Each element in the list should correspond to a word in the sentence. For example, if the sentence is \"Alas! Am I alive? This is my first python program\", the program should print out ['Alas, '!', 'Am', 'I', 'alive, '?', 'This', 'is', 'my', 'first', 'python', 'program'].\n",
        "\n",
        "(3) Compare the two sentences. Print out a list of words that occur in both sentences.\n",
        "\n",
        "(4) Remove any punctuation from the sentence and print it back out. It should remove at least the following characters, but it can remove more: period(“.”), comma (“,”), semicolon (“;”), and colon (“:”)\n",
        "\n",
        "(5) Count the number of vowels in the sentences. Print out each vowel and the number of times it appears in the sentences, such as: a:2, e:1, i:0, etc"
      ]
    },
    {
      "cell_type": "code",
      "execution_count": null,
      "metadata": {
        "id": "Y0oOSlsOS0cq",
        "outputId": "9dea8c13-dab0-4fc8-f514-008500a8ae36"
      },
      "outputs": [
        {
          "name": "stdout",
          "output_type": "stream",
          "text": [
            "Enter the first sentence: Hello! How are you?\n",
            "Enter the second sentence: Hello! I am fine. What about you?\n",
            "\n",
            "Splitting of the sentence 1: ['Hello', '!', 'How', 'are', 'you', '?']\n",
            "Splitting of the second sentence 2: ['Hello', '!', 'I', 'am', 'fine', '.', 'What', 'about', 'you', '?']\n",
            "\n",
            "list of words that occur in both sentences: ['Hello', '!', 'you', '?']\n",
            "\n",
            "Sentence 1 without punctuation: ['Hello', 'How', 'are', 'you']\n",
            "Sentence 2 without punctuation: ['Hello', 'I', 'am', 'fine', 'What', 'about', 'you']\n",
            "\n",
            "Vowels count in sentence 1: {'a': 1, 'e': 2, 'i': 0, 'o': 3, 'u': 1}\n",
            "Vowels count in sentence 2: {'a': 3, 'e': 2, 'i': 2, 'o': 3, 'u': 2}\n"
          ]
        }
      ],
      "source": [
        "# Your code here\n",
        "import string\n",
        "\n",
        "a = input(\"Enter the first sentence: \") \n",
        "b = input(\"Enter the second sentence: \") \n",
        "print()\n",
        "\n",
        "#separating the words in a sentence with punctuation\n",
        "def split(s):\n",
        " \n",
        "    r = [] \n",
        "    word = '' \n",
        "\n",
        "    for char in s:\n",
        "        if char not in string.whitespace:\n",
        "            if char not in string.ascii_letters + \"'\":\n",
        "                if word: \n",
        "                        r.append(word)\n",
        "                r.append(char)\n",
        "                word = ''\n",
        "            else:\n",
        "                word = ''.join([word,char])\n",
        "\n",
        "        else:\n",
        "            if word:\n",
        "                r.append(word)\n",
        "                word = ''\n",
        "    return r\n",
        "\n",
        "list1 = split(a)\n",
        "list2 = split(b)\n",
        "\n",
        "print(f\"Splitting of the sentence 1: {list1}\")\n",
        "print(f\"Splitting of the second sentence 2: {list2}\")\n",
        "print()\n",
        "\n",
        "def compare_sentence(list1, list2):\n",
        "   \n",
        "    r = []\n",
        "    for word in list1:\n",
        "        if word in list2:\n",
        "            r.append(word)\n",
        "            \n",
        "    return r\n",
        "\n",
        "print(f\"list of words that occur in both sentences: {compare_sentence(list1, list2)}\")\n",
        "print()\n",
        "\n",
        "\n",
        "def remove_punctuation(list_of_words):\n",
        "   \n",
        "    r = []\n",
        "    for word in list_of_words:\n",
        "        if word.strip(string.punctuation):\n",
        "            r.append(word.strip(string.punctuation))\n",
        "    return r\n",
        "\n",
        "list1 = remove_punctuation(list1)\n",
        "list2 = remove_punctuation(list2)\n",
        "\n",
        "print(f\"Sentence 1 without punctuation: {list1}\")\n",
        "print(f\"Sentence 2 without punctuation: {list2}\")\n",
        "print()\n",
        "\n",
        "def count_vowels(s):\n",
        "   \n",
        "    \n",
        "    dic = {'a': 0, 'e': 0, 'i':0, 'o':0, 'u': 0}\n",
        "    for char in s.lower():\n",
        "        if char in 'aeiou':\n",
        "            if char in dic.keys():\n",
        "                dic[char] += 1\n",
        "            else:\n",
        "                dic[char] = 1\n",
        "    return dic\n",
        "\n",
        "print(f\"Vowels count in sentence 1: {count_vowels(a)}\")\n",
        "print(f\"Vowels count in sentence 2: {count_vowels(b)}\")\n",
        "            "
      ]
    },
    {
      "cell_type": "markdown",
      "metadata": {
        "id": "CmFoI4jDS9nx"
      },
      "source": [
        "# Question 3 \n",
        "\n",
        "(15 points). The formula that describes the volume V of a sphere with radius r is the following:\n",
        "\n",
        "$ V=\\frac{4}{3}\\ast\\ \\pi\\ast\\ r^3 $\n",
        "\n",
        "Write a program to calculate the value of V when r is in the range of 1–10. Output the result in the following format:\n",
        "\n",
        "\tr\tV\n",
        "\t1\t…\n",
        "\t2\t…\n",
        "\t3\t…\n"
      ]
    },
    {
      "cell_type": "code",
      "execution_count": null,
      "metadata": {
        "id": "pEyqeioAT95b",
        "outputId": "3be4be2c-a651-4e1a-8de9-1f07213610a1"
      },
      "outputs": [
        {
          "name": "stdout",
          "output_type": "stream",
          "text": [
            "r\tV\n",
            "1\t4.1887902047863905\n",
            "2\t33.510321638291124\n",
            "3\t113.09733552923254\n",
            "4\t268.082573106329\n",
            "5\t523.5987755982989\n",
            "6\t904.7786842338603\n",
            "7\t1436.7550402417319\n",
            "8\t2144.660584850632\n",
            "9\t3053.6280592892786\n",
            "10\t4188.790204786391\n"
          ]
        }
      ],
      "source": [
        "# Your code here\n",
        "import math \n",
        "\n",
        "def vol(r):\n",
        "   \n",
        "    return ((4/3) * math.pi * pow(r,3))\n",
        "\n",
        "print(\"r\", \"V\", sep=\"\\t\")\n",
        "\n",
        "for r in range(1, 10+1):\n",
        "    print(r,vol(r), sep='\\t')"
      ]
    },
    {
      "cell_type": "markdown",
      "metadata": {
        "id": "z3tBE7E-Xn5X"
      },
      "source": [
        "# Question 4\n",
        "\n",
        "(40 points). In the field of Data Science, data is often formatted as a comma-delimited (CSV) file, where each line in a file corresponds to a field's value. Refer to Chapter 9 (p. 106) for more information on comma-delimited files. To answer this question, you will need to download the file [Assignment1_denton_housing.csv](https://raw.githubusercontent.com/unt-iialab/info5731-spring2022/main/assignments/Assignment1_denton_housing.csv) included with this assignment. The file [Assignment1_denton_housing.csv](https://raw.githubusercontent.com/unt-iialab/info5731-spring2022/main/assignments/Assignment1_denton_housing.csv) contains statistics about housing in the city of Denton from 2008 to 2014. Write a program to implement the following questions.\n",
        "\n",
        "(1) (10 pts) Calculate the difference in the number of Occupied Housing Units from year to year and print it. The difference must be calculated for the consecutive years such as 2008-2009, 2009-2010 etc. Finally, print the values in the ascending order.\n",
        "\n",
        "(2) (10 pts) For all the years, calculate the percentage of housing units which are vacant an occupied. Print the results in the following format:\n",
        "\n",
        "Year Vacant Housing Units Occupied Housing Units\n",
        "\n",
        "    2008  30%   70%                          \n",
        "\t2009 ----- -----\n",
        "\t2010 ----- -----\n",
        "    2011 ----- -----\n",
        "\t2012 ----- -----\n",
        "    2013 ----- -----\n",
        "\t2014 ----- -----\n",
        "  \n",
        "  \n",
        "\n",
        "(3) (10 pts) Calculate and print the valued and years in which the highest number of housing units were vacant and occupied. Print the results in the following format:  \n",
        "\n",
        "                              Year\tValue\n",
        "\tVacant Housing Units\t  -----   -----\n",
        "\tOccupied Housing Units\t-----   -----\n",
        "\n",
        "(4) (10 pts) Calculate the harmonic mean of the total housing units and print it out. You can find the information about harmonic mean here: https://ncalculators.com/statistics/harmonic-mean-calculator.htm"
      ]
    },
    {
      "cell_type": "code",
      "execution_count": null,
      "metadata": {
        "id": "O5t4Db87Q-wu",
        "outputId": "08e55d4f-44d1-4733-e8c4-a91af61c7d3e"
      },
      "outputs": [
        {
          "data": {
            "text/plain": [
              "(42, 3)"
            ]
          },
          "execution_count": 5,
          "metadata": {},
          "output_type": "execute_result"
        }
      ],
      "source": [
        "import pandas as pd\n",
        "df = pd.read_csv('Assignment1_denton_housing.csv')\n",
        "df.shape"
      ]
    },
    {
      "cell_type": "code",
      "execution_count": null,
      "metadata": {
        "id": "I8N_kIoPQ-wu",
        "outputId": "a60834f4-8a22-4433-99e7-cefd53cadc43"
      },
      "outputs": [
        {
          "data": {
            "text/html": [
              "<div>\n",
              "<style scoped>\n",
              "    .dataframe tbody tr th:only-of-type {\n",
              "        vertical-align: middle;\n",
              "    }\n",
              "\n",
              "    .dataframe tbody tr th {\n",
              "        vertical-align: top;\n",
              "    }\n",
              "\n",
              "    .dataframe thead th {\n",
              "        text-align: right;\n",
              "    }\n",
              "</style>\n",
              "<table border=\"1\" class=\"dataframe\">\n",
              "  <thead>\n",
              "    <tr style=\"text-align: right;\">\n",
              "      <th></th>\n",
              "      <th>year</th>\n",
              "      <th>title_field</th>\n",
              "      <th>value</th>\n",
              "    </tr>\n",
              "  </thead>\n",
              "  <tbody>\n",
              "    <tr>\n",
              "      <th>0</th>\n",
              "      <td>2014</td>\n",
              "      <td>Total Housing Units</td>\n",
              "      <td>49109</td>\n",
              "    </tr>\n",
              "    <tr>\n",
              "      <th>1</th>\n",
              "      <td>2014</td>\n",
              "      <td>Vacant Housing Units</td>\n",
              "      <td>2814</td>\n",
              "    </tr>\n",
              "    <tr>\n",
              "      <th>2</th>\n",
              "      <td>2014</td>\n",
              "      <td>Occupied Housing Units</td>\n",
              "      <td>46295</td>\n",
              "    </tr>\n",
              "    <tr>\n",
              "      <th>3</th>\n",
              "      <td>2013</td>\n",
              "      <td>Total Housing Units</td>\n",
              "      <td>47888</td>\n",
              "    </tr>\n",
              "    <tr>\n",
              "      <th>4</th>\n",
              "      <td>2013</td>\n",
              "      <td>Vacant Housing Units</td>\n",
              "      <td>4215</td>\n",
              "    </tr>\n",
              "  </tbody>\n",
              "</table>\n",
              "</div>"
            ],
            "text/plain": [
              "   year             title_field  value\n",
              "0  2014     Total Housing Units  49109\n",
              "1  2014    Vacant Housing Units   2814\n",
              "2  2014  Occupied Housing Units  46295\n",
              "3  2013     Total Housing Units  47888\n",
              "4  2013    Vacant Housing Units   4215"
            ]
          },
          "execution_count": 6,
          "metadata": {},
          "output_type": "execute_result"
        }
      ],
      "source": [
        "df.head()"
      ]
    },
    {
      "cell_type": "code",
      "execution_count": null,
      "metadata": {
        "id": "WTkoZcl2Q-wu",
        "outputId": "cbaf9df5-5da4-400e-9514-2d5e763f275e"
      },
      "outputs": [
        {
          "data": {
            "text/plain": [
              "Total Housing Units       7\n",
              "Vacant Housing Units      7\n",
              "Occupied Housing Units    7\n",
              "Owner Occupied            7\n",
              "Renter Occupied           7\n",
              "Median Gross Rent         7\n",
              "Name: title_field, dtype: int64"
            ]
          },
          "execution_count": 7,
          "metadata": {},
          "output_type": "execute_result"
        }
      ],
      "source": [
        "df['title_field'].value_counts()"
      ]
    },
    {
      "cell_type": "code",
      "execution_count": null,
      "metadata": {
        "id": "NLPB2oPOQ-wv",
        "outputId": "0b944e3f-0c64-40b6-f192-b790799dd502"
      },
      "outputs": [
        {
          "name": "stdout",
          "output_type": "stream",
          "text": [
            "Difference in the number of Occupied Housing Units from year to year:\n",
            "2008 - 2009 = 795\n",
            "2009 - 2010 = -5091\n",
            "2010 - 2011 = 303\n",
            "2011 - 2012 = -1404\n",
            "2012 - 2013 = -1565\n",
            "2013 - 2014 = -2622\n"
          ]
        }
      ],
      "source": [
        "print('Difference in the number of Occupied Housing Units from year to year:')\n",
        "df_new_index = df.set_index('year')\n",
        "for year in range(2008, 2014):\n",
        "    difference = df_new_index[df_new_index['title_field']=='Occupied Housing Units']['value'][year] - \\\n",
        "        df_new_index[df_new_index['title_field']=='Occupied Housing Units']['value'][year+1]\n",
        "    print(f\"{year} - {year+1} = {difference}\")\n"
      ]
    },
    {
      "cell_type": "code",
      "execution_count": null,
      "metadata": {
        "id": "mDzsvXlIQ-wv",
        "outputId": "d6d6d551-13d1-4839-ccbd-d3be03f4d826"
      },
      "outputs": [
        {
          "name": "stdout",
          "output_type": "stream",
          "text": [
            "year\tVacant Housing Units\tOccupied Housing Units\n",
            "2008\t10.88265281351653%\t\t\t89.11734718648347%\n",
            "2009\t9.07111572444872%\t\t\t90.92888427555128%\n",
            "2010\t8.142556337081672%\t\t\t91.85744366291833%\n",
            "2011\t9.379522229890688%\t\t\t90.6204777701093%\n",
            "2012\t6.677600230491346%\t\t\t93.32239976950866%\n",
            "2013\t8.801787504176412%\t\t\t91.19821249582358%\n",
            "2014\t5.730110570363885%\t\t\t94.26988942963611%\n"
          ]
        }
      ],
      "source": [
        "print('year', 'Vacant Housing Units', 'Occupied Housing Units', sep='\\t')\n",
        "\n",
        "for year in range(2008, 2015):\n",
        "    vacant_percent = ((df_new_index[df_new_index['title_field']=='Vacant Housing Units']['value'][year]) / (df_new_index[df_new_index['title_field']=='Total Housing Units']['value'][year]))*100\n",
        "    occupied_percent = ((df_new_index[df_new_index['title_field']=='Occupied Housing Units']['value'][year]) / (df_new_index[df_new_index['title_field']=='Total Housing Units']['value'][year] ))*100\n",
        "\n",
        "    print(year, str(vacant_percent)+'%\\t\\t', str(occupied_percent)+'%', sep='\\t')\n"
      ]
    },
    {
      "cell_type": "code",
      "execution_count": null,
      "metadata": {
        "id": "aPpLOTAfQ-wv",
        "outputId": "8c8e4487-65a8-4976-e3c7-510149d60a58"
      },
      "outputs": [
        {
          "name": "stdout",
          "output_type": "stream",
          "text": [
            "\t\t\tYear\tValue\n",
            "Vacant Housing Units\t2008\t4483\n",
            "Occupied Housing Units\t2014\t46295\n"
          ]
        }
      ],
      "source": [
        "\n",
        "vacant_value = df[df['title_field']=='Vacant Housing Units'][ 'value'].max()\n",
        "vacant_year = df[(df['title_field']=='Vacant Housing Units') & (df['value']==vacant_value)]['year'].iloc[0]\n",
        "\n",
        "occupied_value = df[df['title_field']=='Occupied Housing Units'][ 'value'].max()\n",
        "occupied_year = df[(df['title_field']=='Occupied Housing Units') & (df['value']==occupied_value)]['year'].iloc[0]\n",
        "\n",
        "print('\\t\\t', 'Year', 'Value', sep='\\t')\n",
        "print('Vacant Housing Units', vacant_year, vacant_value, sep='\\t')\n",
        "print('Occupied Housing Units', occupied_year, occupied_value, sep='\\t')\n",
        "\n"
      ]
    },
    {
      "cell_type": "code",
      "execution_count": null,
      "metadata": {
        "id": "2nMTbrPdQ-wv",
        "outputId": "4f1e500c-e083-42f9-b62e-2457b85aab04"
      },
      "outputs": [
        {
          "name": "stdout",
          "output_type": "stream",
          "text": [
            "Harmonic mean of the total housing units:  44398.28543969185\n"
          ]
        }
      ],
      "source": [
        "sum = 0\n",
        "length = len(df_new_index[df_new_index['title_field']=='Total Housing Units']['value'])\n",
        "for year in range(2008,2015):\n",
        "    sum += 1/( df_new_index[df_new_index['title_field']=='Total Housing Units']['value'][year])\n",
        "    \n",
        "print(\"Harmonic mean of the total housing units: \", (length/sum))"
      ]
    },
    {
      "cell_type": "code",
      "execution_count": null,
      "metadata": {
        "id": "U8CgMiR0Q-ww"
      },
      "outputs": [],
      "source": []
    }
  ],
  "metadata": {
    "colab": {
      "provenance": [],
      "include_colab_link": true
    },
    "kernelspec": {
      "display_name": "Python 3 (ipykernel)",
      "language": "python",
      "name": "python3"
    },
    "language_info": {
      "codemirror_mode": {
        "name": "ipython",
        "version": 3
      },
      "file_extension": ".py",
      "mimetype": "text/x-python",
      "name": "python",
      "nbconvert_exporter": "python",
      "pygments_lexer": "ipython3",
      "version": "3.9.12"
    }
  },
  "nbformat": 4,
  "nbformat_minor": 0
}