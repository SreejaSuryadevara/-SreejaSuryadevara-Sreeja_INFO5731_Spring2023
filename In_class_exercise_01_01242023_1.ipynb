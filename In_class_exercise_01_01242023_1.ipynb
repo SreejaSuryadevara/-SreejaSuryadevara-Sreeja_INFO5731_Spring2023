{
  "cells": [
    {
      "cell_type": "markdown",
      "metadata": {
        "id": "view-in-github",
        "colab_type": "text"
      },
      "source": [
        "<a href=\"https://colab.research.google.com/github/SreejaSuryadevara/-SreejaSuryadevara-Sreeja_INFO5731_Spring2023/blob/main/In_class_exercise_01_01242023_1.ipynb\" target=\"_parent\"><img src=\"https://colab.research.google.com/assets/colab-badge.svg\" alt=\"Open In Colab\"/></a>"
      ]
    },
    {
      "cell_type": "markdown",
      "metadata": {
        "id": "DymRJbxDBCnf"
      },
      "source": [
        "# **The first In-class-exercise (01/24/2023, 40 points in total)**"
      ]
    },
    {
      "cell_type": "markdown",
      "metadata": {
        "id": "03jb4GZsBkBS"
      },
      "source": [
        "(1) Write a Python program to calculate the length of a string. (4 points)"
      ]
    },
    {
      "cell_type": "code",
      "execution_count": null,
      "metadata": {
        "id": "YaGLbSHHB8Ej",
        "outputId": "75cdac1b-2006-4711-ecf8-81ca892100b9"
      },
      "outputs": [
        {
          "name": "stdout",
          "output_type": "stream",
          "text": [
            "Enter a string: Sreeja\n",
            "Length of the above string is  6\n"
          ]
        }
      ],
      "source": [
        "s = input(\"Enter a string: \")\n",
        "c=0\n",
        "for i in s:\n",
        "    c=c+1\n",
        "print(\"Length of the above string is \", c)\n"
      ]
    },
    {
      "cell_type": "markdown",
      "metadata": {
        "id": "jJDe71iLB616"
      },
      "source": [
        "(2) Write a Python program to count the number of characters in a string. (4 points)\n",
        "\n",
        "Sample String : 'google.com‘, \n",
        "\n",
        "Expected Result : {'o': 3, 'g': 2, '.': 1, 'e': 1, 'l': 1, 'm': 1, 'c': 1}"
      ]
    },
    {
      "cell_type": "code",
      "execution_count": null,
      "metadata": {
        "id": "MtKskTzbCLaU",
        "outputId": "8d5ec107-b701-4659-8ab0-519397efd3dc"
      },
      "outputs": [
        {
          "name": "stdout",
          "output_type": "stream",
          "text": [
            "Enter String: SreejaSuryadevara\n",
            "{'a': 4, 'e': 3, 'r': 3, 'S': 2, 'v': 1, 'd': 1, 'y': 1, 'u': 1, 'j': 1}\n"
          ]
        }
      ],
      "source": [
        "# write your answer here\n",
        "from collections import OrderedDict\n",
        "import numpy as np\n",
        "\n",
        "n = input(\"Enter String: \")\n",
        "d = dict()\n",
        "for a in n:\n",
        " if a in d:\n",
        "     d[a] = d[a] + 1\n",
        " else:\n",
        "     d[a] = 1\n",
        "\n",
        "keys = list(d.keys())\n",
        "values = list(d.values())\n",
        "sorted_answer = np.argsort(values)\n",
        "b=reversed(sorted_answer)\n",
        "sorted_dict = {keys[i]: values[i] for i in b}\n",
        " \n",
        "print(sorted_dict)"
      ]
    },
    {
      "cell_type": "markdown",
      "metadata": {
        "id": "55W9AMdXCSpV"
      },
      "source": [
        "(3) Write a Python program to sum all the items in a list. (4 points)"
      ]
    },
    {
      "cell_type": "code",
      "execution_count": null,
      "metadata": {
        "id": "I57NXsauCec2",
        "outputId": "824a645d-4ab5-41eb-8259-645f494113a4"
      },
      "outputs": [
        {
          "name": "stdout",
          "output_type": "stream",
          "text": [
            "How many numbers: 6\n",
            "Enter number 6\n",
            "Enter number 9\n",
            "Enter number 65\n",
            "Enter number 3\n",
            "Enter number 45\n",
            "Enter number 23\n",
            "Sum : 151\n"
          ]
        }
      ],
      "source": [
        "# write your answer here\n",
        "a = []\n",
        "total = 0\n",
        "num = int(input('How many numbers: '))\n",
        "for i in range(num):\n",
        "    numbers = int(input('Enter number '))\n",
        "    a.append(numbers)\n",
        "for j in range(0, len(a)):\n",
        "    total = total + a[j]\n",
        "print(\"Sum :\", total)"
      ]
    },
    {
      "cell_type": "markdown",
      "metadata": {
        "id": "4ulBZ6yhCi9F"
      },
      "source": [
        "(4) Write a Python program to get a string from a given string where all occurrences of its first char have been changed to '\\$', except the first char itself. (4 points)\n",
        "\n",
        "Sample String : 'restart‘, \n",
        "\n",
        "Expected Result : 'resta\\$t'"
      ]
    },
    {
      "cell_type": "code",
      "execution_count": null,
      "metadata": {
        "id": "Fj0XhwbBCw2o",
        "outputId": "e220e2f8-6cd8-4b3f-80b4-0ecf20ed2cd1"
      },
      "outputs": [
        {
          "name": "stdout",
          "output_type": "stream",
          "text": [
            "enter string: SreejaSuryadevara\n",
            "Sreeja$uryadevara\n"
          ]
        }
      ],
      "source": [
        "# write your answer here\n",
        "a=input(\"enter string: \")\n",
        "b= a[0]\n",
        "a= a.replace(b, '$')\n",
        "a = b + a[1:]\n",
        "print(a)"
      ]
    },
    {
      "cell_type": "markdown",
      "metadata": {
        "id": "_bIP7s1MCzue"
      },
      "source": [
        "(5) Write a program with python which could accept two parameter a and b to calculate and output the result of S, where \n",
        "\n",
        "$\\ S=3.14*(1+a/b)^3$ (4 points)\n",
        "\n"
      ]
    },
    {
      "cell_type": "code",
      "execution_count": null,
      "metadata": {
        "id": "w79QilHXD3Mg",
        "outputId": "29d40373-5220-45a6-f573-b90d061031b7"
      },
      "outputs": [
        {
          "name": "stdout",
          "output_type": "stream",
          "text": [
            "Enter a value8\n",
            "Enter b value7\n",
            "30.89650145772595\n"
          ]
        }
      ],
      "source": [
        "# write your answer here\n",
        "a=int(input(\"Enter a value\"))\n",
        "b=int(input(\"Enter b value\"))\n",
        "result=3.14*((1+a/b)**3)\n",
        "print(result)"
      ]
    },
    {
      "cell_type": "markdown",
      "metadata": {
        "id": "xCa2bK9aD4Q3"
      },
      "source": [
        "(6) Write a Python program to concatenate following dictionaries to create a new one. (4 points)\n",
        "\n",
        "Sample Dictionary : dic1={1:10, 2:20}, dic2={3:30, 4:40}, dic3={5:50,6:60}, \n",
        "\n",
        "Expected Result : {1: 10, 2: 20, 3: 30, 4: 40, 5: 50, 6: 60}\n"
      ]
    },
    {
      "cell_type": "code",
      "execution_count": null,
      "metadata": {
        "id": "_z4aLqAbEET1",
        "outputId": "dd9eb332-ffe2-41a5-a8f9-4758f504b151"
      },
      "outputs": [
        {
          "name": "stdout",
          "output_type": "stream",
          "text": [
            "{1: 10, 2: 20, 3: 30, 4: 40, 5: 50, 6: 60}\n"
          ]
        }
      ],
      "source": [
        "# write your answer here\n",
        "dict1={1:10, 2:20}\n",
        "dict2={3:30, 4:40}\n",
        "dict3={5:50,6:60}\n",
        "dict4={**dict1, **dict2, **dict3}\n",
        "print(dict4)"
      ]
    },
    {
      "cell_type": "markdown",
      "metadata": {
        "id": "0v48Vqa7FrQh"
      },
      "source": [
        "(7) Write a Python program to check whether an element exists within a tuple. (4 points)"
      ]
    },
    {
      "cell_type": "code",
      "execution_count": null,
      "metadata": {
        "id": "7WEmgq-DF2P1",
        "outputId": "8e73b31d-08db-4375-f192-968219ccd91f"
      },
      "outputs": [
        {
          "name": "stdout",
          "output_type": "stream",
          "text": [
            "Enter space separated words: s r e e ja s u r y a d e v a r a\n",
            "('s', 'r', 'e', 'e', 'ja', 's', 'u', 'r', 'y', 'a', 'd', 'e', 'v', 'a', 'r', 'a')\n",
            "True\n",
            "True\n",
            "False\n",
            "False\n"
          ]
        }
      ],
      "source": [
        "# write your answer here\n",
        "a = tuple(input('Enter space separated words: ').split())\n",
        "print(a)\n",
        "print(\"a\" in a)\n",
        "print(\"e\" in a)\n",
        "print(\"i\" in a)\n",
        "print(\"n\" in a)"
      ]
    },
    {
      "cell_type": "markdown",
      "metadata": {
        "id": "vD5PYLMuGga_"
      },
      "source": [
        "(8) Write a Python program to find maximum and the minimum value in a set. (4 points)"
      ]
    },
    {
      "cell_type": "code",
      "execution_count": null,
      "metadata": {
        "id": "t0D5kdJUGjjw",
        "outputId": "f8e50769-a0f9-4c38-dade-8db9bd000bc9"
      },
      "outputs": [
        {
          "name": "stdout",
          "output_type": "stream",
          "text": [
            "1\n",
            "66\n"
          ]
        }
      ],
      "source": [
        "# write your answer here\n",
        "a =[1,2,3,4,5,6,7,8,9,11,22,33,44,55,66]\n",
        "print(min(a))\n",
        "print(max(a))"
      ]
    },
    {
      "cell_type": "markdown",
      "metadata": {
        "id": "uHkd-y5VhVWC"
      },
      "source": [
        "(9) Write a Python program to randomly divide the students in this class into six groups for term projects, each group should have at least 4 students but no more than 6 students (including 6). Here is the students list: (4 points)\n",
        "\n",
        "studnet_list = ['ja0964','sa1198','sb1357','vb0218','sc1229','kg0569','kg0470','sg1297','bg0320','fh0141','jl1252','sk1386',\n",
        "           'ak0956','sk1390','sk1458','sk1313','ak0934','vm0377','nm0618','sm1640','sm1907','gn0108','pr0353','dr0609','ms1500','aos0040','ds0814', 'av0659','nv0234','hy0232']"
      ]
    },
    {
      "cell_type": "code",
      "execution_count": null,
      "metadata": {
        "id": "3iGbmcOBhTwy",
        "outputId": "85dec889-118a-4850-d5b4-611187dfd55e"
      },
      "outputs": [
        {
          "name": "stdout",
          "output_type": "stream",
          "text": [
            "Group 1: ['sk1390', 'ds0814', 'fh0141', 'sk1386', 'pr0353']\n",
            "Group 2: ['ms1500', 'gn0108', 'av0659', 'sa1198', 'kg0569']\n",
            "Group 3: ['sg1297', 'bg0320', 'jl1252', 'sm1640', 'sm1907']\n",
            "Group 4: ['kg0470', 'ak0956', 'ak0934', 'ja0964', 'vb0218']\n",
            "Group 5: ['hy0232', 'vm0377', 'dr0609', 'sk1458', 'sk1313']\n",
            "Group 6: ['sb1357', 'aos0040', 'nm0618', 'nv0234', 'sc1229']\n"
          ]
        }
      ],
      "source": [
        "# write your answer here\n",
        "import random\n",
        "a=['ja0964','sa1198','sb1357','vb0218','sc1229','kg0569','kg0470','sg1297','bg0320','fh0141','jl1252','sk1386', 'ak0956','sk1390','sk1458','sk1313','ak0934','vm0377','nm0618','sm1640','sm1907','gn0108','pr0353','dr0609','ms1500','aos0040','ds0814', 'av0659','nv0234','hy0232']\n",
        "grps=6\n",
        "grp_size=(len(a)+grps-1)//grps\n",
        "random.shuffle(a)\n",
        "grouped_students=[a[i:i+grp_size] for i in range(0, len(a), grp_size)]\n",
        "for i, group in enumerate(grouped_students):\n",
        "    print(\"Group {}: {}\".format(i+1, group))"
      ]
    },
    {
      "cell_type": "markdown",
      "metadata": {
        "id": "y4qZazDZOKKG"
      },
      "source": [
        "(10) Write a Python program to find the duplicate elements in a given array of integers. Return -1 If there are no such elements. (4 points)"
      ]
    },
    {
      "cell_type": "code",
      "execution_count": null,
      "metadata": {
        "id": "w5NQODwaOKKH",
        "outputId": "5e94befe-85de-4e71-d3a1-8c944972bec1"
      },
      "outputs": [
        {
          "name": "stdout",
          "output_type": "stream",
          "text": [
            "55\n",
            "-1\n",
            "9\n"
          ]
        }
      ],
      "source": [
        "#### write your answer here\n",
        "def duplicate(nums):\n",
        "    a = set()\n",
        "    no_duplicate = -1\n",
        "\n",
        "    for i in range(len(nums)):\n",
        "\n",
        "        if nums[i] in a:\n",
        "            return nums[i]\n",
        "        else:\n",
        "            a.add(nums[i])\n",
        "\n",
        "    return no_duplicate\n",
        "print(duplicate([55,66,7,3,55,2,3,7]))\n",
        "print(duplicate([8,56,0,2,3,4]))\n",
        "print(duplicate([9,8,9,9,8,8,7,7,7]))"
      ]
    },
    {
      "cell_type": "markdown",
      "metadata": {
        "id": "KBhkN0ZDOKKI"
      },
      "source": [
        "(11) Write a Python program to select all the Sundays of a specified year. (4 extra points)"
      ]
    },
    {
      "cell_type": "code",
      "execution_count": null,
      "metadata": {
        "id": "AbKi8sVVOKKJ",
        "outputId": "ea6eea73-7bef-4f9c-c696-5805cb22e717"
      },
      "outputs": [
        {
          "name": "stdout",
          "output_type": "stream",
          "text": [
            "Enter a Year: 2000\n",
            "2000-01-02 00:00:00\n",
            "2000-01-09 00:00:00\n",
            "2000-01-16 00:00:00\n",
            "2000-01-23 00:00:00\n",
            "2000-01-30 00:00:00\n",
            "2000-02-06 00:00:00\n",
            "2000-02-13 00:00:00\n",
            "2000-02-20 00:00:00\n",
            "2000-02-27 00:00:00\n",
            "2000-03-05 00:00:00\n",
            "2000-03-12 00:00:00\n",
            "2000-03-19 00:00:00\n",
            "2000-03-26 00:00:00\n",
            "2000-04-02 00:00:00\n",
            "2000-04-09 00:00:00\n",
            "2000-04-16 00:00:00\n",
            "2000-04-23 00:00:00\n",
            "2000-04-30 00:00:00\n",
            "2000-05-07 00:00:00\n",
            "2000-05-14 00:00:00\n",
            "2000-05-21 00:00:00\n",
            "2000-05-28 00:00:00\n",
            "2000-06-04 00:00:00\n",
            "2000-06-11 00:00:00\n",
            "2000-06-18 00:00:00\n",
            "2000-06-25 00:00:00\n",
            "2000-07-02 00:00:00\n",
            "2000-07-09 00:00:00\n",
            "2000-07-16 00:00:00\n",
            "2000-07-23 00:00:00\n",
            "2000-07-30 00:00:00\n",
            "2000-08-06 00:00:00\n",
            "2000-08-13 00:00:00\n",
            "2000-08-20 00:00:00\n",
            "2000-08-27 00:00:00\n",
            "2000-09-03 00:00:00\n",
            "2000-09-10 00:00:00\n",
            "2000-09-17 00:00:00\n",
            "2000-09-24 00:00:00\n",
            "2000-10-01 00:00:00\n",
            "2000-10-08 00:00:00\n",
            "2000-10-15 00:00:00\n",
            "2000-10-22 00:00:00\n",
            "2000-10-29 00:00:00\n",
            "2000-11-05 00:00:00\n",
            "2000-11-12 00:00:00\n",
            "2000-11-19 00:00:00\n",
            "2000-11-26 00:00:00\n",
            "2000-12-03 00:00:00\n",
            "2000-12-10 00:00:00\n",
            "2000-12-17 00:00:00\n",
            "2000-12-24 00:00:00\n",
            "2000-12-31 00:00:00\n"
          ]
        }
      ],
      "source": [
        "# write your answer here\n",
        "import datetime\n",
        "y = input(\"Enter a Year: \")\n",
        "for week in range(53):\n",
        "    print(datetime.datetime.strptime(y+str(week)+'0', '%Y%W%w'))"
      ]
    },
    {
      "cell_type": "code",
      "execution_count": null,
      "metadata": {
        "id": "6qy9JxP7OKKK"
      },
      "outputs": [],
      "source": []
    }
  ],
  "metadata": {
    "colab": {
      "provenance": [],
      "include_colab_link": true
    },
    "kernelspec": {
      "display_name": "Python 3 (ipykernel)",
      "language": "python",
      "name": "python3"
    },
    "language_info": {
      "codemirror_mode": {
        "name": "ipython",
        "version": 3
      },
      "file_extension": ".py",
      "mimetype": "text/x-python",
      "name": "python",
      "nbconvert_exporter": "python",
      "pygments_lexer": "ipython3",
      "version": "3.9.12"
    }
  },
  "nbformat": 4,
  "nbformat_minor": 0
}